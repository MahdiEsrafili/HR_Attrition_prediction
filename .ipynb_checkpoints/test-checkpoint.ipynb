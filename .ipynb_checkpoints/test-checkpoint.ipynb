{
 "cells": [
  {
   "cell_type": "code",
   "execution_count": 6,
   "metadata": {},
   "outputs": [],
   "source": [
    "from ml_core import ML_core\n",
    "from recommend_analyzer import Analyze\n",
    "from Recommendation import Recommend\n",
    "from ModifiedLabelEncoder import ModifiedLabelEncoder\n",
    "import pandas as pd\n",
    "import time\n",
    "pd.set_option('display.max_columns', None)"
   ]
  },
  {
   "cell_type": "code",
   "execution_count": 7,
   "metadata": {},
   "outputs": [],
   "source": [
    "train_data = pd.read_csv('data/name_attached/train_data_incl_names.csv')\n",
    "predict_data = pd.read_csv('data/name_attached/prediction_data_incl_names.csv') \n"
   ]
  },
  {
   "cell_type": "code",
   "execution_count": 8,
   "metadata": {},
   "outputs": [
    {
     "name": "stdout",
     "output_type": "stream",
     "text": [
      "stopped at 1.857\n"
     ]
    }
   ],
   "source": [
    "start_time = time.time()\n",
    "none_informative = ['Name', 'Unnamed: 0']\n",
    "train_data = train_data.drop(none_informative, 1)\n",
    "predict_data = predict_data.drop(none_informative, 1)\n",
    "ml_core = ML_core(train_data, predict_data)\n",
    "ml_core.train()\n",
    "result = ml_core.predict()\n",
    "\n",
    "train_data_led = ml_core.label_encoder.transform(train_data)\n",
    "recommender = Recommend(train_data_led, 'Attrition')\n",
    "need_recommendation = result[result.Attrition==1]\n",
    "recommends_list = []\n",
    "for person_indx in range(need_recommendation.shape[0]):\n",
    "    person = ml_core.label_encoder.transform(need_recommendation.iloc[person_indx:person_indx+1])\n",
    "    recoms = recommender.recommend(person)\n",
    "    analyzer = Analyze(need_recommendation.iloc[person_indx:person_indx+1], train_data.iloc[recoms.index])\n",
    "    an = analyzer.analyze()\n",
    "    recommends_list.append(an)\n",
    "    \n",
    "result['recommendations'] = 'NaN'\n",
    "result.loc[result.Attrition==1, 'recommendations'] = recommends_list\n",
    "\n",
    "end_time = time.time()\n",
    "print(f'stopped at {end_time - start_time:.3f}')"
   ]
  },
  {
   "cell_type": "code",
   "execution_count": 13,
   "metadata": {},
   "outputs": [
    {
     "data": {
      "text/plain": [
       "{'Age': 0.048184235,\n",
       " 'Attrition': 0.020603795,\n",
       " 'BusinessTravel': 0.024655208,\n",
       " 'DailyRate': 0.041637827,\n",
       " 'Department': 0.036894735,\n",
       " 'DistanceFromHome': 0.022761704,\n",
       " 'Education': 0.03123617,\n",
       " 'EducationField': 0.025855355,\n",
       " 'EmployeeCount': 0.02511789,\n",
       " 'EmployeeNumber': 0.02094761,\n",
       " 'EnvironmentSatisfaction': 0.036518056,\n",
       " 'Gender': 0.028934086,\n",
       " 'HourlyRate': 0.02884643,\n",
       " 'JobInvolvement': 0.03141696,\n",
       " 'JobLevel': 0.027727205,\n",
       " 'JobRole': 0.05189985,\n",
       " 'JobSatisfaction': 0.027623827,\n",
       " 'MaritalStatus': 0.046974037,\n",
       " 'MonthlyIncome': 0.0,\n",
       " 'MonthlyRate': 0.08532143,\n",
       " 'NumCompaniesWorked': 0.019188011,\n",
       " 'Over18': 0.0,\n",
       " 'OverTime': 0.021931741,\n",
       " 'PercentSalaryHike': 0.0,\n",
       " 'PerformanceRating': 0.07971312,\n",
       " 'RelationshipSatisfaction': 0.023658095,\n",
       " 'StandardHours': 0.025660718,\n",
       " 'StockOptionLevel': 0.04254097,\n",
       " 'TotalWorkingYears': 0.028258538,\n",
       " 'TrainingTimesLastYear': 0.036907505,\n",
       " 'WorkLifeBalance': 0.031266883,\n",
       " 'YearsAtCompany': 0.027717978}"
      ]
     },
     "execution_count": 13,
     "metadata": {},
     "output_type": "execute_result"
    }
   ],
   "source": [
    "x = zip(train_data.columns,ml_core.model.feature_importances_)\n",
    "dict(x)"
   ]
  },
  {
   "cell_type": "code",
   "execution_count": null,
   "metadata": {},
   "outputs": [],
   "source": []
  }
 ],
 "metadata": {
  "kernelspec": {
   "display_name": "Python 3",
   "language": "python",
   "name": "python3"
  },
  "language_info": {
   "codemirror_mode": {
    "name": "ipython",
    "version": 3
   },
   "file_extension": ".py",
   "mimetype": "text/x-python",
   "name": "python",
   "nbconvert_exporter": "python",
   "pygments_lexer": "ipython3",
   "version": "3.8.3"
  }
 },
 "nbformat": 4,
 "nbformat_minor": 2
}
