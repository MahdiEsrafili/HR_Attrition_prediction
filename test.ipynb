{
 "metadata": {
  "language_info": {
   "codemirror_mode": {
    "name": "ipython",
    "version": 3
   },
   "file_extension": ".py",
   "mimetype": "text/x-python",
   "name": "python",
   "nbconvert_exporter": "python",
   "pygments_lexer": "ipython3",
   "version": "3.8.3-final"
  },
  "orig_nbformat": 2,
  "kernelspec": {
   "name": "python3",
   "display_name": "Python 3"
  }
 },
 "nbformat": 4,
 "nbformat_minor": 2,
 "cells": [
  {
   "cell_type": "code",
   "execution_count": 1,
   "metadata": {},
   "outputs": [],
   "source": [
    "from ml_core import ML_core\n",
    "import pandas as pd"
   ]
  },
  {
   "cell_type": "code",
   "execution_count": 9,
   "metadata": {},
   "outputs": [],
   "source": [
    "train_data = pd.read_csv('data/name_attached/train_data_incl_names.csv')\n",
    "predict_data = pd.read_csv('data/name_attached/prediction_data_incl_names.csv') \n"
   ]
  },
  {
   "cell_type": "code",
   "execution_count": 11,
   "metadata": {},
   "outputs": [],
   "source": [
    "ml_core = ML_core(train_data, predict_data)\n",
    "ml_core.train()\n",
    "result = ml_core.predict()"
   ]
  },
  {
   "cell_type": "code",
   "execution_count": 12,
   "metadata": {},
   "outputs": [],
   "source": []
  },
  {
   "cell_type": "code",
   "execution_count": 13,
   "metadata": {},
   "outputs": [],
   "source": []
  },
  {
   "cell_type": "code",
   "execution_count": 14,
   "metadata": {},
   "outputs": [
    {
     "output_type": "execute_result",
     "data": {
      "text/plain": [
       "     Unnamed: 0                     Name  Age     BusinessTravel  DailyRate  \\\n",
       "0           999                Mi Richan   42      Travel_Rarely       1147   \n",
       "1          1000  Francoise Rautenstrauch   52      Travel_Rarely        258   \n",
       "2          1001              Kendra Loud   37      Travel_Rarely       1462   \n",
       "3          1002         Lourdes Bauswell   35  Travel_Frequently        200   \n",
       "4          1003           Hannah Edmison   25      Travel_Rarely        949   \n",
       "..          ...                      ...  ...                ...        ...   \n",
       "466        1465             Rene Granier   36  Travel_Frequently        884   \n",
       "467        1466           Trevor Harnist   39      Travel_Rarely        613   \n",
       "468        1467        Sharmaine Batdorf   27      Travel_Rarely        155   \n",
       "469        1468              Ricki Traux   49  Travel_Frequently       1023   \n",
       "470        1469        Bernadine Shufelt   34      Travel_Rarely        628   \n",
       "\n",
       "                 Department  DistanceFromHome  Education    EducationField  \\\n",
       "0           Human Resources                10          3   Human Resources   \n",
       "1    Research & Development                 8          4             Other   \n",
       "2    Research & Development                11          3           Medical   \n",
       "3    Research & Development                18          2     Life Sciences   \n",
       "4    Research & Development                 1          3  Technical Degree   \n",
       "..                      ...               ...        ...               ...   \n",
       "466  Research & Development                23          2           Medical   \n",
       "467  Research & Development                 6          1           Medical   \n",
       "468  Research & Development                 4          3     Life Sciences   \n",
       "469                   Sales                 2          3           Medical   \n",
       "470  Research & Development                 8          3           Medical   \n",
       "\n",
       "     EmployeeCount  ...  StandardHours  StockOptionLevel TotalWorkingYears  \\\n",
       "0                1  ...             80                 1                21   \n",
       "1                1  ...             80                 0                12   \n",
       "2                1  ...             80                 0                 8   \n",
       "3                1  ...             80                 0                10   \n",
       "4                1  ...             80                 1                 7   \n",
       "..             ...  ...            ...               ...               ...   \n",
       "466              1  ...             80                 1                17   \n",
       "467              1  ...             80                 1                 9   \n",
       "468              1  ...             80                 1                 6   \n",
       "469              1  ...             80                 0                17   \n",
       "470              1  ...             80                 0                 6   \n",
       "\n",
       "     TrainingTimesLastYear  WorkLifeBalance  YearsAtCompany  \\\n",
       "0                        5                3              20   \n",
       "1                        2                1               5   \n",
       "2                        6                3               3   \n",
       "3                        2                3               2   \n",
       "4                        2                2               3   \n",
       "..                     ...              ...             ...   \n",
       "466                      3                3               5   \n",
       "467                      5                3               7   \n",
       "468                      0                3               6   \n",
       "469                      3                2               9   \n",
       "470                      3                4               4   \n",
       "\n",
       "    YearsInCurrentRole  YearsSinceLastPromotion YearsWithCurrManager  \\\n",
       "0                    7                        0                    9   \n",
       "1                    4                        0                    4   \n",
       "2                    2                        0                    2   \n",
       "3                    2                        2                    2   \n",
       "4                    2                        0                    2   \n",
       "..                 ...                      ...                  ...   \n",
       "466                  2                        0                    3   \n",
       "467                  7                        1                    7   \n",
       "468                  2                        0                    3   \n",
       "469                  6                        0                    8   \n",
       "470                  3                        1                    2   \n",
       "\n",
       "     Attrition  \n",
       "0            0  \n",
       "1            0  \n",
       "2            0  \n",
       "3            0  \n",
       "4            0  \n",
       "..         ...  \n",
       "466          0  \n",
       "467          0  \n",
       "468          0  \n",
       "469          0  \n",
       "470          0  \n",
       "\n",
       "[471 rows x 37 columns]"
      ],
      "text/html": "<div>\n<style scoped>\n    .dataframe tbody tr th:only-of-type {\n        vertical-align: middle;\n    }\n\n    .dataframe tbody tr th {\n        vertical-align: top;\n    }\n\n    .dataframe thead th {\n        text-align: right;\n    }\n</style>\n<table border=\"1\" class=\"dataframe\">\n  <thead>\n    <tr style=\"text-align: right;\">\n      <th></th>\n      <th>Unnamed: 0</th>\n      <th>Name</th>\n      <th>Age</th>\n      <th>BusinessTravel</th>\n      <th>DailyRate</th>\n      <th>Department</th>\n      <th>DistanceFromHome</th>\n      <th>Education</th>\n      <th>EducationField</th>\n      <th>EmployeeCount</th>\n      <th>...</th>\n      <th>StandardHours</th>\n      <th>StockOptionLevel</th>\n      <th>TotalWorkingYears</th>\n      <th>TrainingTimesLastYear</th>\n      <th>WorkLifeBalance</th>\n      <th>YearsAtCompany</th>\n      <th>YearsInCurrentRole</th>\n      <th>YearsSinceLastPromotion</th>\n      <th>YearsWithCurrManager</th>\n      <th>Attrition</th>\n    </tr>\n  </thead>\n  <tbody>\n    <tr>\n      <th>0</th>\n      <td>999</td>\n      <td>Mi Richan</td>\n      <td>42</td>\n      <td>Travel_Rarely</td>\n      <td>1147</td>\n      <td>Human Resources</td>\n      <td>10</td>\n      <td>3</td>\n      <td>Human Resources</td>\n      <td>1</td>\n      <td>...</td>\n      <td>80</td>\n      <td>1</td>\n      <td>21</td>\n      <td>5</td>\n      <td>3</td>\n      <td>20</td>\n      <td>7</td>\n      <td>0</td>\n      <td>9</td>\n      <td>0</td>\n    </tr>\n    <tr>\n      <th>1</th>\n      <td>1000</td>\n      <td>Francoise Rautenstrauch</td>\n      <td>52</td>\n      <td>Travel_Rarely</td>\n      <td>258</td>\n      <td>Research &amp; Development</td>\n      <td>8</td>\n      <td>4</td>\n      <td>Other</td>\n      <td>1</td>\n      <td>...</td>\n      <td>80</td>\n      <td>0</td>\n      <td>12</td>\n      <td>2</td>\n      <td>1</td>\n      <td>5</td>\n      <td>4</td>\n      <td>0</td>\n      <td>4</td>\n      <td>0</td>\n    </tr>\n    <tr>\n      <th>2</th>\n      <td>1001</td>\n      <td>Kendra Loud</td>\n      <td>37</td>\n      <td>Travel_Rarely</td>\n      <td>1462</td>\n      <td>Research &amp; Development</td>\n      <td>11</td>\n      <td>3</td>\n      <td>Medical</td>\n      <td>1</td>\n      <td>...</td>\n      <td>80</td>\n      <td>0</td>\n      <td>8</td>\n      <td>6</td>\n      <td>3</td>\n      <td>3</td>\n      <td>2</td>\n      <td>0</td>\n      <td>2</td>\n      <td>0</td>\n    </tr>\n    <tr>\n      <th>3</th>\n      <td>1002</td>\n      <td>Lourdes Bauswell</td>\n      <td>35</td>\n      <td>Travel_Frequently</td>\n      <td>200</td>\n      <td>Research &amp; Development</td>\n      <td>18</td>\n      <td>2</td>\n      <td>Life Sciences</td>\n      <td>1</td>\n      <td>...</td>\n      <td>80</td>\n      <td>0</td>\n      <td>10</td>\n      <td>2</td>\n      <td>3</td>\n      <td>2</td>\n      <td>2</td>\n      <td>2</td>\n      <td>2</td>\n      <td>0</td>\n    </tr>\n    <tr>\n      <th>4</th>\n      <td>1003</td>\n      <td>Hannah Edmison</td>\n      <td>25</td>\n      <td>Travel_Rarely</td>\n      <td>949</td>\n      <td>Research &amp; Development</td>\n      <td>1</td>\n      <td>3</td>\n      <td>Technical Degree</td>\n      <td>1</td>\n      <td>...</td>\n      <td>80</td>\n      <td>1</td>\n      <td>7</td>\n      <td>2</td>\n      <td>2</td>\n      <td>3</td>\n      <td>2</td>\n      <td>0</td>\n      <td>2</td>\n      <td>0</td>\n    </tr>\n    <tr>\n      <th>...</th>\n      <td>...</td>\n      <td>...</td>\n      <td>...</td>\n      <td>...</td>\n      <td>...</td>\n      <td>...</td>\n      <td>...</td>\n      <td>...</td>\n      <td>...</td>\n      <td>...</td>\n      <td>...</td>\n      <td>...</td>\n      <td>...</td>\n      <td>...</td>\n      <td>...</td>\n      <td>...</td>\n      <td>...</td>\n      <td>...</td>\n      <td>...</td>\n      <td>...</td>\n      <td>...</td>\n    </tr>\n    <tr>\n      <th>466</th>\n      <td>1465</td>\n      <td>Rene Granier</td>\n      <td>36</td>\n      <td>Travel_Frequently</td>\n      <td>884</td>\n      <td>Research &amp; Development</td>\n      <td>23</td>\n      <td>2</td>\n      <td>Medical</td>\n      <td>1</td>\n      <td>...</td>\n      <td>80</td>\n      <td>1</td>\n      <td>17</td>\n      <td>3</td>\n      <td>3</td>\n      <td>5</td>\n      <td>2</td>\n      <td>0</td>\n      <td>3</td>\n      <td>0</td>\n    </tr>\n    <tr>\n      <th>467</th>\n      <td>1466</td>\n      <td>Trevor Harnist</td>\n      <td>39</td>\n      <td>Travel_Rarely</td>\n      <td>613</td>\n      <td>Research &amp; Development</td>\n      <td>6</td>\n      <td>1</td>\n      <td>Medical</td>\n      <td>1</td>\n      <td>...</td>\n      <td>80</td>\n      <td>1</td>\n      <td>9</td>\n      <td>5</td>\n      <td>3</td>\n      <td>7</td>\n      <td>7</td>\n      <td>1</td>\n      <td>7</td>\n      <td>0</td>\n    </tr>\n    <tr>\n      <th>468</th>\n      <td>1467</td>\n      <td>Sharmaine Batdorf</td>\n      <td>27</td>\n      <td>Travel_Rarely</td>\n      <td>155</td>\n      <td>Research &amp; Development</td>\n      <td>4</td>\n      <td>3</td>\n      <td>Life Sciences</td>\n      <td>1</td>\n      <td>...</td>\n      <td>80</td>\n      <td>1</td>\n      <td>6</td>\n      <td>0</td>\n      <td>3</td>\n      <td>6</td>\n      <td>2</td>\n      <td>0</td>\n      <td>3</td>\n      <td>0</td>\n    </tr>\n    <tr>\n      <th>469</th>\n      <td>1468</td>\n      <td>Ricki Traux</td>\n      <td>49</td>\n      <td>Travel_Frequently</td>\n      <td>1023</td>\n      <td>Sales</td>\n      <td>2</td>\n      <td>3</td>\n      <td>Medical</td>\n      <td>1</td>\n      <td>...</td>\n      <td>80</td>\n      <td>0</td>\n      <td>17</td>\n      <td>3</td>\n      <td>2</td>\n      <td>9</td>\n      <td>6</td>\n      <td>0</td>\n      <td>8</td>\n      <td>0</td>\n    </tr>\n    <tr>\n      <th>470</th>\n      <td>1469</td>\n      <td>Bernadine Shufelt</td>\n      <td>34</td>\n      <td>Travel_Rarely</td>\n      <td>628</td>\n      <td>Research &amp; Development</td>\n      <td>8</td>\n      <td>3</td>\n      <td>Medical</td>\n      <td>1</td>\n      <td>...</td>\n      <td>80</td>\n      <td>0</td>\n      <td>6</td>\n      <td>3</td>\n      <td>4</td>\n      <td>4</td>\n      <td>3</td>\n      <td>1</td>\n      <td>2</td>\n      <td>0</td>\n    </tr>\n  </tbody>\n</table>\n<p>471 rows × 37 columns</p>\n</div>"
     },
     "metadata": {},
     "execution_count": 14
    }
   ],
   "source": [
    "r.to "
   ]
  },
  {
   "cell_type": "code",
   "execution_count": null,
   "metadata": {},
   "outputs": [],
   "source": [
    "r.to_csv()"
   ]
  }
 ]
}